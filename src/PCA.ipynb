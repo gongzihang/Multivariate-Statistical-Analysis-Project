{
 "cells": [
  {
   "cell_type": "code",
   "execution_count": 15,
   "metadata": {},
   "outputs": [],
   "source": [
    "import pandas as pd\n",
    "import numpy as np\n",
    "from sklearn.preprocessing import StandardScaler\n",
    "from sklearn.decomposition import PCA"
   ]
  },
  {
   "cell_type": "code",
   "execution_count": 16,
   "metadata": {},
   "outputs": [
    {
     "name": "stdout",
     "output_type": "stream",
     "text": [
      "<class 'pandas.core.frame.DataFrame'>\n",
      "RangeIndex: 10245 entries, 0 to 10244\n",
      "Data columns (total 21 columns):\n",
      " #   Column                                                                                    Non-Null Count  Dtype  \n",
      "---  ------                                                                                    --------------  -----  \n",
      " 0   Country                                                                                   10245 non-null  object \n",
      " 1   Year                                                                                      10245 non-null  int64  \n",
      " 2   Population                                                                                10245 non-null  int64  \n",
      " 3   Per capita GNI                                                                            10245 non-null  int64  \n",
      " 4   Agriculture, hunting, forestry, fishing (ISIC A-B)                                        10245 non-null  float64\n",
      " 5   Construction (ISIC F)                                                                     10245 non-null  float64\n",
      " 6   Exports of goods and services                                                             10245 non-null  float64\n",
      " 7   Final consumption expenditure                                                             10245 non-null  float64\n",
      " 8   General government final consumption expenditure                                          10245 non-null  float64\n",
      " 9   Gross capital formation                                                                   10245 non-null  float64\n",
      " 10  Gross fixed capital formation (including Acquisitions less disposals of valuables)        10245 non-null  float64\n",
      " 11  Household consumption expenditure (including Non-profit institutions serving households)  10245 non-null  float64\n",
      " 12  Imports of goods and services                                                             10245 non-null  float64\n",
      " 13  Manufacturing (ISIC D)                                                                    10245 non-null  float64\n",
      " 14  Mining, Manufacturing, Utilities (ISIC C-E)                                               10245 non-null  float64\n",
      " 15  Other Activities (ISIC J-P)                                                               10245 non-null  float64\n",
      " 16  Total Value Added                                                                         10245 non-null  float64\n",
      " 17  Transport, storage and communication (ISIC I)                                             10245 non-null  float64\n",
      " 18  Wholesale, retail trade, restaurants and hotels (ISIC G-H)                                10245 non-null  float64\n",
      " 19  Gross National Income(GNI) in USD                                                         10245 non-null  float64\n",
      " 20  Gross Domestic Product (GDP)                                                              10245 non-null  float64\n",
      "dtypes: float64(17), int64(3), object(1)\n",
      "memory usage: 1.6+ MB\n"
     ]
    }
   ],
   "source": [
    "df_economy = pd.read_csv(\"..\\data\\\\all_countries_combined.csv\")\n",
    "df_economy.info()"
   ]
  },
  {
   "cell_type": "code",
   "execution_count": 17,
   "metadata": {},
   "outputs": [
    {
     "name": "stdout",
     "output_type": "stream",
     "text": [
      "210\n",
      "         Country    Population  Per capita GNI  \\\n",
      "0   Afghanistan   2.587705e+07      352.000000   \n",
      "1       Albania   3.041672e+06     2945.766667   \n",
      "2       Algeria   3.457530e+07     3155.666667   \n",
      "3       Andorra   7.087007e+04    36031.733333   \n",
      "4        Angola   2.170480e+07     2096.866667   \n",
      "\n",
      "   Agriculture, hunting, forestry, fishing (ISIC A-B)  Construction (ISIC F)  \\\n",
      "0                                       3.252996e+09            4.040963e+08   \n",
      "1                                       1.766266e+09            9.932132e+08   \n",
      "2                                       1.176986e+10            1.121880e+10   \n",
      "3                                       1.202710e+07            2.236579e+08   \n",
      "4                                       4.394353e+09            5.665082e+09   \n",
      "\n",
      "   Exports of goods and services  Final consumption expenditure  \\\n",
      "0                   1.868442e+09                   1.127084e+10   \n",
      "1                   2.283181e+09                   7.986671e+09   \n",
      "2                   3.784219e+10                   6.651383e+10   \n",
      "3                   7.404388e+08                   2.009490e+09   \n",
      "4                   2.899173e+10                   3.474000e+10   \n",
      "\n",
      "   General government final consumption expenditure  Gross capital formation  \\\n",
      "0                                      1.849355e+09             1.393614e+09   \n",
      "1                                      9.686867e+08             2.455212e+09   \n",
      "2                                      2.031050e+10             4.625489e+10   \n",
      "3                                      4.892993e+08             6.043052e+08   \n",
      "4                                      9.802402e+09             1.511326e+10   \n",
      "\n",
      "   Gross fixed capital formation (including Acquisitions less disposals of valuables)  \\\n",
      "0                                       1.393614e+09                                    \n",
      "1                                       2.393161e+09                                    \n",
      "2                                       3.850473e+10                                    \n",
      "3                                       5.905052e+08                                    \n",
      "4                                       1.471878e+10                                    \n",
      "\n",
      "   Household consumption expenditure (including Non-profit institutions serving households)  \\\n",
      "0                                       9.421487e+09                                          \n",
      "1                                       7.017984e+09                                          \n",
      "2                                       4.616675e+10                                          \n",
      "3                                       1.520190e+09                                          \n",
      "4                                       2.493760e+10                                          \n",
      "\n",
      "   Imports of goods and services  Manufacturing (ISIC D)  \\\n",
      "0                   4.167980e+09            7.470132e+08   \n",
      "1                   4.025869e+09            4.694057e+08   \n",
      "2                   3.374228e+10            5.570042e+09   \n",
      "3                   7.527448e+08            9.484040e+07   \n",
      "4                   2.101097e+10            3.118644e+09   \n",
      "\n",
      "   Mining, Manufacturing, Utilities (ISIC C-E)  Other Activities (ISIC J-P)  \\\n",
      "0                                 9.695622e+08                 2.997233e+09   \n",
      "1                                 9.594073e+08                 2.144043e+09   \n",
      "2                                 4.190715e+10                 2.342896e+10   \n",
      "3                                 1.251290e+08                 1.200568e+09   \n",
      "4                                 2.396243e+10                 1.167191e+10   \n",
      "\n",
      "   Total Value Added  Transport, storage and communication (ISIC I)  \\\n",
      "0       9.639117e+09                                   9.917481e+08   \n",
      "1       7.595413e+09                                   5.678035e+08   \n",
      "2       1.129370e+11                                   1.000346e+10   \n",
      "3       2.323071e+09                                   1.174348e+08   \n",
      "4       5.813226e+10                                   2.314101e+09   \n",
      "\n",
      "   Wholesale, retail trade, restaurants and hotels (ISIC G-H)  \\\n",
      "0                                       1.023482e+09            \n",
      "1                                       1.164680e+09            \n",
      "2                                       1.463882e+10            \n",
      "3                                       6.442547e+08            \n",
      "4                                       1.010666e+10            \n",
      "\n",
      "   Gross National Income(GNI) in USD  Gross Domestic Product (GDP)  \n",
      "0                       1.024138e+10                  1.018701e+10  \n",
      "1                       8.677555e+09                  8.637043e+09  \n",
      "2                       1.143305e+11                  1.168170e+11  \n",
      "3                       2.601298e+09                  2.601298e+09  \n",
      "4                       5.252728e+10                  5.793052e+10  \n"
     ]
    }
   ],
   "source": [
    "# 先筛选 1992 年及以后的数据\n",
    "df_after_1992 = df_economy[df_economy['Year'] >= 1992]\n",
    "\n",
    "# 然后按 Country 分组，计算均值（默认对数值型列计算均值）\n",
    "country_mean_1992 = df_after_1992.groupby('Country').mean(numeric_only=True)\n",
    "\n",
    "# 如果你想保留国家名作为列，而不是索引，可以 reset_index()\n",
    "country_mean_1992 = country_mean_1992.reset_index()\n",
    "country_mean_1992 = country_mean_1992.drop(columns=\"Year\")\n",
    "# 查看结果\n",
    "print(len(country_mean_1992))\n",
    "print(country_mean_1992.head())"
   ]
  },
  {
   "cell_type": "code",
   "execution_count": 18,
   "metadata": {},
   "outputs": [
    {
     "data": {
      "text/plain": [
       "array([[-0.04965783, -0.6609809 , -0.17009339, -0.25336826, -0.351811  ,\n",
       "        -0.2082821 , -0.23649302, -0.22600569, -0.22388323, -0.20003123,\n",
       "        -0.31685346, -0.20271155, -0.24585032, -0.18881768, -0.21506501,\n",
       "        -0.20423237, -0.2142719 , -0.22080837, -0.22352469],\n",
       "       [-0.23163038, -0.507088  , -0.2060143 , -0.24248664, -0.34963505,\n",
       "        -0.21200973, -0.24141586, -0.22229358, -0.22031611, -0.20343717,\n",
       "        -0.31756517, -0.20392201, -0.2458943 , -0.19033097, -0.21689543,\n",
       "        -0.20824981, -0.21339746, -0.22218072, -0.22489873]])"
      ]
     },
     "execution_count": 18,
     "metadata": {},
     "output_type": "execute_result"
    }
   ],
   "source": [
    "# PCA\n",
    "# 提取数据与标准化（注意是每个国家之间的均值进行标准化）\n",
    "df_pca = country_mean_1992.select_dtypes(include=[np.number])\n",
    "scaler = StandardScaler()\n",
    "X_scaled = scaler.fit_transform(df_pca)\n",
    "X_scaled[:2]"
   ]
  },
  {
   "cell_type": "code",
   "execution_count": 19,
   "metadata": {},
   "outputs": [],
   "source": [
    "# 执行PCA\n",
    "pca = PCA()\n",
    "X_pca = pca.fit_transform(X_scaled)"
   ]
  },
  {
   "cell_type": "code",
   "execution_count": null,
   "metadata": {},
   "outputs": [],
   "source": []
  }
 ],
 "metadata": {
  "kernelspec": {
   "display_name": "LRD_GNN",
   "language": "python",
   "name": "python3"
  },
  "language_info": {
   "codemirror_mode": {
    "name": "ipython",
    "version": 3
   },
   "file_extension": ".py",
   "mimetype": "text/x-python",
   "name": "python",
   "nbconvert_exporter": "python",
   "pygments_lexer": "ipython3",
   "version": "3.11.7"
  },
  "orig_nbformat": 4
 },
 "nbformat": 4,
 "nbformat_minor": 2
}
