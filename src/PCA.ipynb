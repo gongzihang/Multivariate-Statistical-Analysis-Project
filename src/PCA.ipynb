{
 "cells": [
  {
   "cell_type": "code",
   "execution_count": 8,
   "metadata": {},
   "outputs": [],
   "source": [
    "import pandas as pd\n",
    "import numpy as np\n",
    "from sklearn.preprocessing import StandardScaler\n",
    "from sklearn.decomposition import PCA"
   ]
  },
  {
   "cell_type": "code",
   "execution_count": 3,
   "metadata": {},
   "outputs": [
    {
     "name": "stdout",
     "output_type": "stream",
     "text": [
      "<class 'pandas.core.frame.DataFrame'>\n",
      "RangeIndex: 10453 entries, 0 to 10452\n",
      "Data columns (total 21 columns):\n",
      " #   Column                                                                                    Non-Null Count  Dtype  \n",
      "---  ------                                                                                    --------------  -----  \n",
      " 0   Country                                                                                   10453 non-null  object \n",
      " 1   Year                                                                                      10453 non-null  int64  \n",
      " 2   Population                                                                                10453 non-null  int64  \n",
      " 3   Per capita GNI                                                                            10453 non-null  int64  \n",
      " 4   Agriculture, hunting, forestry, fishing (ISIC A-B)                                        10349 non-null  float64\n",
      " 5   Construction (ISIC F)                                                                     10453 non-null  float64\n",
      " 6   Exports of goods and services                                                             10453 non-null  float64\n",
      " 7   Final consumption expenditure                                                             10453 non-null  float64\n",
      " 8   General government final consumption expenditure                                          10401 non-null  float64\n",
      " 9   Gross capital formation                                                                   10401 non-null  float64\n",
      " 10  Gross fixed capital formation (including Acquisitions less disposals of valuables)        10401 non-null  float64\n",
      " 11  Household consumption expenditure (including Non-profit institutions serving households)  10401 non-null  float64\n",
      " 12  Imports of goods and services                                                             10453 non-null  float64\n",
      " 13  Manufacturing (ISIC D)                                                                    10453 non-null  float64\n",
      " 14  Mining, Manufacturing, Utilities (ISIC C-E)                                               10453 non-null  float64\n",
      " 15  Other Activities (ISIC J-P)                                                               10453 non-null  float64\n",
      " 16  Total Value Added                                                                         10453 non-null  float64\n",
      " 17  Transport, storage and communication (ISIC I)                                             10453 non-null  float64\n",
      " 18  Wholesale, retail trade, restaurants and hotels (ISIC G-H)                                10453 non-null  float64\n",
      " 19  Gross National Income(GNI) in USD                                                         10453 non-null  float64\n",
      " 20  Gross Domestic Product (GDP)                                                              10453 non-null  float64\n",
      "dtypes: float64(17), int64(3), object(1)\n",
      "memory usage: 1.7+ MB\n"
     ]
    }
   ],
   "source": [
    "df_economy = pd.read_csv(\"..\\data\\\\all_countries_combined.csv\")\n",
    "df_economy.info()"
   ]
  },
  {
   "cell_type": "code",
   "execution_count": 6,
   "metadata": {},
   "outputs": [
    {
     "name": "stdout",
     "output_type": "stream",
     "text": [
      "214\n",
      "         Country    Population  Per capita GNI  \\\n",
      "0   Afghanistan   2.587705e+07      352.000000   \n",
      "1       Albania   3.041672e+06     2945.766667   \n",
      "2       Algeria   3.457530e+07     3155.666667   \n",
      "3       Andorra   7.087007e+04    36031.733333   \n",
      "4        Angola   2.170480e+07     2096.866667   \n",
      "\n",
      "   Agriculture, hunting, forestry, fishing (ISIC A-B)  Construction (ISIC F)  \\\n",
      "0                                       3.252996e+09            4.040963e+08   \n",
      "1                                       1.766266e+09            9.932132e+08   \n",
      "2                                       1.176986e+10            1.121880e+10   \n",
      "3                                       1.202710e+07            2.236579e+08   \n",
      "4                                       4.394353e+09            5.665082e+09   \n",
      "\n",
      "   Exports of goods and services  Final consumption expenditure  \\\n",
      "0                   1.868442e+09                   1.127084e+10   \n",
      "1                   2.283181e+09                   7.986671e+09   \n",
      "2                   3.784219e+10                   6.651383e+10   \n",
      "3                   7.404388e+08                   2.009490e+09   \n",
      "4                   2.899173e+10                   3.474000e+10   \n",
      "\n",
      "   General government final consumption expenditure  Gross capital formation  \\\n",
      "0                                      1.849355e+09             1.393614e+09   \n",
      "1                                      9.686867e+08             2.455212e+09   \n",
      "2                                      2.031050e+10             4.625489e+10   \n",
      "3                                      4.892993e+08             6.043052e+08   \n",
      "4                                      9.802402e+09             1.511326e+10   \n",
      "\n",
      "   Gross fixed capital formation (including Acquisitions less disposals of valuables)  \\\n",
      "0                                       1.393614e+09                                    \n",
      "1                                       2.393161e+09                                    \n",
      "2                                       3.850473e+10                                    \n",
      "3                                       5.905052e+08                                    \n",
      "4                                       1.471878e+10                                    \n",
      "\n",
      "   Household consumption expenditure (including Non-profit institutions serving households)  \\\n",
      "0                                       9.421487e+09                                          \n",
      "1                                       7.017984e+09                                          \n",
      "2                                       4.616675e+10                                          \n",
      "3                                       1.520190e+09                                          \n",
      "4                                       2.493760e+10                                          \n",
      "\n",
      "   Imports of goods and services  Manufacturing (ISIC D)  \\\n",
      "0                   4.167980e+09            7.470132e+08   \n",
      "1                   4.025869e+09            4.694057e+08   \n",
      "2                   3.374228e+10            5.570042e+09   \n",
      "3                   7.527448e+08            9.484040e+07   \n",
      "4                   2.101097e+10            3.118644e+09   \n",
      "\n",
      "   Mining, Manufacturing, Utilities (ISIC C-E)  Other Activities (ISIC J-P)  \\\n",
      "0                                 9.695622e+08                 2.997233e+09   \n",
      "1                                 9.594073e+08                 2.144043e+09   \n",
      "2                                 4.190715e+10                 2.342896e+10   \n",
      "3                                 1.251290e+08                 1.200568e+09   \n",
      "4                                 2.396243e+10                 1.167191e+10   \n",
      "\n",
      "   Total Value Added  Transport, storage and communication (ISIC I)  \\\n",
      "0       9.639117e+09                                   9.917481e+08   \n",
      "1       7.595413e+09                                   5.678035e+08   \n",
      "2       1.129370e+11                                   1.000346e+10   \n",
      "3       2.323071e+09                                   1.174348e+08   \n",
      "4       5.813226e+10                                   2.314101e+09   \n",
      "\n",
      "   Wholesale, retail trade, restaurants and hotels (ISIC G-H)  \\\n",
      "0                                       1.023482e+09            \n",
      "1                                       1.164680e+09            \n",
      "2                                       1.463882e+10            \n",
      "3                                       6.442547e+08            \n",
      "4                                       1.010666e+10            \n",
      "\n",
      "   Gross National Income(GNI) in USD  Gross Domestic Product (GDP)  \n",
      "0                       1.024138e+10                  1.018701e+10  \n",
      "1                       8.677555e+09                  8.637043e+09  \n",
      "2                       1.143305e+11                  1.168170e+11  \n",
      "3                       2.601298e+09                  2.601298e+09  \n",
      "4                       5.252728e+10                  5.793052e+10  \n"
     ]
    }
   ],
   "source": [
    "# 先筛选 1992 年及以后的数据\n",
    "df_after_1992 = df_economy[df_economy['Year'] >= 1992]\n",
    "\n",
    "# 然后按 Country 分组，计算均值（默认对数值型列计算均值）\n",
    "country_mean_1992 = df_after_1992.groupby('Country').mean(numeric_only=True)\n",
    "\n",
    "# 如果你想保留国家名作为列，而不是索引，可以 reset_index()\n",
    "country_mean_1992 = country_mean_1992.reset_index()\n",
    "country_mean_1992 = country_mean_1992.drop(columns=\"Year\")\n",
    "# 查看结果\n",
    "print(len(country_mean_1992))\n",
    "print(country_mean_1992.head())"
   ]
  },
  {
   "cell_type": "code",
   "execution_count": 12,
   "metadata": {},
   "outputs": [
    {
     "data": {
      "text/plain": [
       "array([[-0.04645503, -0.62560195, -0.16890243, -0.25174399, -0.35586484,\n",
       "        -0.20703994, -0.23527292, -0.22525206, -0.22314408, -0.19940273,\n",
       "        -0.32070582, -0.20085908, -0.24365756, -0.18807128, -0.21387969,\n",
       "        -0.2030957 , -0.21378707, -0.21961206, -0.22229322],\n",
       "       [-0.2300779 , -0.48943938, -0.20498644, -0.24076409, -0.35368482,\n",
       "        -0.21080172, -0.2402293 , -0.22151441, -0.2195524 , -0.20283222,\n",
       "        -0.32141951, -0.20208058, -0.24370194, -0.18959855, -0.21572686,\n",
       "        -0.20714997, -0.21290466, -0.22099695, -0.2236798 ]])"
      ]
     },
     "execution_count": 12,
     "metadata": {},
     "output_type": "execute_result"
    }
   ],
   "source": [
    "# PCA\n",
    "# 提取数据与标准化（注意是每个国家之间的均值进行标准化）\n",
    "df_pca = country_mean_1992.select_dtypes(include=[np.number])\n",
    "scaler = StandardScaler()\n",
    "X_scaled = scaler.fit_transform(df_pca)\n",
    "X_scaled[:2]"
   ]
  },
  {
   "cell_type": "code",
   "execution_count": 13,
   "metadata": {},
   "outputs": [
    {
     "ename": "ValueError",
     "evalue": "Input X contains NaN.\nPCA does not accept missing values encoded as NaN natively. For supervised learning, you might want to consider sklearn.ensemble.HistGradientBoostingClassifier and Regressor which accept missing values encoded as NaNs natively. Alternatively, it is possible to preprocess the data, for instance by using an imputer transformer in a pipeline or drop samples with missing values. See https://scikit-learn.org/stable/modules/impute.html You can find a list of all estimators that handle NaN values at the following page: https://scikit-learn.org/stable/modules/impute.html#estimators-that-handle-nan-values",
     "output_type": "error",
     "traceback": [
      "\u001b[1;31m---------------------------------------------------------------------------\u001b[0m",
      "\u001b[1;31mValueError\u001b[0m                                Traceback (most recent call last)",
      "Cell \u001b[1;32mIn[13], line 3\u001b[0m\n\u001b[0;32m      1\u001b[0m \u001b[39m# 执行PCA\u001b[39;00m\n\u001b[0;32m      2\u001b[0m pca \u001b[39m=\u001b[39m PCA()\n\u001b[1;32m----> 3\u001b[0m X_pca \u001b[39m=\u001b[39m pca\u001b[39m.\u001b[39;49mfit_transform(X_scaled)\n",
      "File \u001b[1;32md:\\Anaconda\\envs\\LRD_GNN\\Lib\\site-packages\\sklearn\\utils\\_set_output.py:319\u001b[0m, in \u001b[0;36m_wrap_method_output.<locals>.wrapped\u001b[1;34m(self, X, *args, **kwargs)\u001b[0m\n\u001b[0;32m    317\u001b[0m \u001b[39m@wraps\u001b[39m(f)\n\u001b[0;32m    318\u001b[0m \u001b[39mdef\u001b[39;00m \u001b[39mwrapped\u001b[39m(\u001b[39mself\u001b[39m, X, \u001b[39m*\u001b[39margs, \u001b[39m*\u001b[39m\u001b[39m*\u001b[39mkwargs):\n\u001b[1;32m--> 319\u001b[0m     data_to_wrap \u001b[39m=\u001b[39m f(\u001b[39mself\u001b[39;49m, X, \u001b[39m*\u001b[39;49margs, \u001b[39m*\u001b[39;49m\u001b[39m*\u001b[39;49mkwargs)\n\u001b[0;32m    320\u001b[0m     \u001b[39mif\u001b[39;00m \u001b[39misinstance\u001b[39m(data_to_wrap, \u001b[39mtuple\u001b[39m):\n\u001b[0;32m    321\u001b[0m         \u001b[39m# only wrap the first output for cross decomposition\u001b[39;00m\n\u001b[0;32m    322\u001b[0m         return_tuple \u001b[39m=\u001b[39m (\n\u001b[0;32m    323\u001b[0m             _wrap_data_with_container(method, data_to_wrap[\u001b[39m0\u001b[39m], X, \u001b[39mself\u001b[39m),\n\u001b[0;32m    324\u001b[0m             \u001b[39m*\u001b[39mdata_to_wrap[\u001b[39m1\u001b[39m:],\n\u001b[0;32m    325\u001b[0m         )\n",
      "File \u001b[1;32md:\\Anaconda\\envs\\LRD_GNN\\Lib\\site-packages\\sklearn\\base.py:1389\u001b[0m, in \u001b[0;36m_fit_context.<locals>.decorator.<locals>.wrapper\u001b[1;34m(estimator, *args, **kwargs)\u001b[0m\n\u001b[0;32m   1382\u001b[0m     estimator\u001b[39m.\u001b[39m_validate_params()\n\u001b[0;32m   1384\u001b[0m \u001b[39mwith\u001b[39;00m config_context(\n\u001b[0;32m   1385\u001b[0m     skip_parameter_validation\u001b[39m=\u001b[39m(\n\u001b[0;32m   1386\u001b[0m         prefer_skip_nested_validation \u001b[39mor\u001b[39;00m global_skip_validation\n\u001b[0;32m   1387\u001b[0m     )\n\u001b[0;32m   1388\u001b[0m ):\n\u001b[1;32m-> 1389\u001b[0m     \u001b[39mreturn\u001b[39;00m fit_method(estimator, \u001b[39m*\u001b[39;49margs, \u001b[39m*\u001b[39;49m\u001b[39m*\u001b[39;49mkwargs)\n",
      "File \u001b[1;32md:\\Anaconda\\envs\\LRD_GNN\\Lib\\site-packages\\sklearn\\decomposition\\_pca.py:468\u001b[0m, in \u001b[0;36mPCA.fit_transform\u001b[1;34m(self, X, y)\u001b[0m\n\u001b[0;32m    445\u001b[0m \u001b[39m@_fit_context\u001b[39m(prefer_skip_nested_validation\u001b[39m=\u001b[39m\u001b[39mTrue\u001b[39;00m)\n\u001b[0;32m    446\u001b[0m \u001b[39mdef\u001b[39;00m \u001b[39mfit_transform\u001b[39m(\u001b[39mself\u001b[39m, X, y\u001b[39m=\u001b[39m\u001b[39mNone\u001b[39;00m):\n\u001b[0;32m    447\u001b[0m \u001b[39m    \u001b[39m\u001b[39m\"\"\"Fit the model with X and apply the dimensionality reduction on X.\u001b[39;00m\n\u001b[0;32m    448\u001b[0m \n\u001b[0;32m    449\u001b[0m \u001b[39m    Parameters\u001b[39;00m\n\u001b[1;32m   (...)\u001b[0m\n\u001b[0;32m    466\u001b[0m \u001b[39m    C-ordered array, use 'np.ascontiguousarray'.\u001b[39;00m\n\u001b[0;32m    467\u001b[0m \u001b[39m    \"\"\"\u001b[39;00m\n\u001b[1;32m--> 468\u001b[0m     U, S, _, X, x_is_centered, xp \u001b[39m=\u001b[39m \u001b[39mself\u001b[39;49m\u001b[39m.\u001b[39;49m_fit(X)\n\u001b[0;32m    469\u001b[0m     \u001b[39mif\u001b[39;00m U \u001b[39mis\u001b[39;00m \u001b[39mnot\u001b[39;00m \u001b[39mNone\u001b[39;00m:\n\u001b[0;32m    470\u001b[0m         U \u001b[39m=\u001b[39m U[:, : \u001b[39mself\u001b[39m\u001b[39m.\u001b[39mn_components_]\n",
      "File \u001b[1;32md:\\Anaconda\\envs\\LRD_GNN\\Lib\\site-packages\\sklearn\\decomposition\\_pca.py:505\u001b[0m, in \u001b[0;36mPCA._fit\u001b[1;34m(self, X)\u001b[0m\n\u001b[0;32m    495\u001b[0m     \u001b[39mraise\u001b[39;00m \u001b[39mValueError\u001b[39;00m(\n\u001b[0;32m    496\u001b[0m         \u001b[39m\"\u001b[39m\u001b[39mPCA with svd_solver=\u001b[39m\u001b[39m'\u001b[39m\u001b[39marpack\u001b[39m\u001b[39m'\u001b[39m\u001b[39m is not supported for Array API inputs.\u001b[39m\u001b[39m\"\u001b[39m\n\u001b[0;32m    497\u001b[0m     )\n\u001b[0;32m    499\u001b[0m \u001b[39m# Validate the data, without ever forcing a copy as any solver that\u001b[39;00m\n\u001b[0;32m    500\u001b[0m \u001b[39m# supports sparse input data and the `covariance_eigh` solver are\u001b[39;00m\n\u001b[0;32m    501\u001b[0m \u001b[39m# written in a way to avoid the need for any inplace modification of\u001b[39;00m\n\u001b[0;32m    502\u001b[0m \u001b[39m# the input data contrary to the other solvers.\u001b[39;00m\n\u001b[0;32m    503\u001b[0m \u001b[39m# The copy will happen\u001b[39;00m\n\u001b[0;32m    504\u001b[0m \u001b[39m# later, only if needed, once the solver negotiation below is done.\u001b[39;00m\n\u001b[1;32m--> 505\u001b[0m X \u001b[39m=\u001b[39m validate_data(\n\u001b[0;32m    506\u001b[0m     \u001b[39mself\u001b[39;49m,\n\u001b[0;32m    507\u001b[0m     X,\n\u001b[0;32m    508\u001b[0m     dtype\u001b[39m=\u001b[39;49m[xp\u001b[39m.\u001b[39;49mfloat64, xp\u001b[39m.\u001b[39;49mfloat32],\n\u001b[0;32m    509\u001b[0m     force_writeable\u001b[39m=\u001b[39;49m\u001b[39mTrue\u001b[39;49;00m,\n\u001b[0;32m    510\u001b[0m     accept_sparse\u001b[39m=\u001b[39;49m(\u001b[39m\"\u001b[39;49m\u001b[39mcsr\u001b[39;49m\u001b[39m\"\u001b[39;49m, \u001b[39m\"\u001b[39;49m\u001b[39mcsc\u001b[39;49m\u001b[39m\"\u001b[39;49m),\n\u001b[0;32m    511\u001b[0m     ensure_2d\u001b[39m=\u001b[39;49m\u001b[39mTrue\u001b[39;49;00m,\n\u001b[0;32m    512\u001b[0m     copy\u001b[39m=\u001b[39;49m\u001b[39mFalse\u001b[39;49;00m,\n\u001b[0;32m    513\u001b[0m )\n\u001b[0;32m    514\u001b[0m \u001b[39mself\u001b[39m\u001b[39m.\u001b[39m_fit_svd_solver \u001b[39m=\u001b[39m \u001b[39mself\u001b[39m\u001b[39m.\u001b[39msvd_solver\n\u001b[0;32m    515\u001b[0m \u001b[39mif\u001b[39;00m \u001b[39mself\u001b[39m\u001b[39m.\u001b[39m_fit_svd_solver \u001b[39m==\u001b[39m \u001b[39m\"\u001b[39m\u001b[39mauto\u001b[39m\u001b[39m\"\u001b[39m \u001b[39mand\u001b[39;00m issparse(X):\n",
      "File \u001b[1;32md:\\Anaconda\\envs\\LRD_GNN\\Lib\\site-packages\\sklearn\\utils\\validation.py:2944\u001b[0m, in \u001b[0;36mvalidate_data\u001b[1;34m(_estimator, X, y, reset, validate_separately, skip_check_array, **check_params)\u001b[0m\n\u001b[0;32m   2942\u001b[0m         out \u001b[39m=\u001b[39m X, y\n\u001b[0;32m   2943\u001b[0m \u001b[39melif\u001b[39;00m \u001b[39mnot\u001b[39;00m no_val_X \u001b[39mand\u001b[39;00m no_val_y:\n\u001b[1;32m-> 2944\u001b[0m     out \u001b[39m=\u001b[39m check_array(X, input_name\u001b[39m=\u001b[39;49m\u001b[39m\"\u001b[39;49m\u001b[39mX\u001b[39;49m\u001b[39m\"\u001b[39;49m, \u001b[39m*\u001b[39;49m\u001b[39m*\u001b[39;49mcheck_params)\n\u001b[0;32m   2945\u001b[0m \u001b[39melif\u001b[39;00m no_val_X \u001b[39mand\u001b[39;00m \u001b[39mnot\u001b[39;00m no_val_y:\n\u001b[0;32m   2946\u001b[0m     out \u001b[39m=\u001b[39m _check_y(y, \u001b[39m*\u001b[39m\u001b[39m*\u001b[39mcheck_params)\n",
      "File \u001b[1;32md:\\Anaconda\\envs\\LRD_GNN\\Lib\\site-packages\\sklearn\\utils\\validation.py:1107\u001b[0m, in \u001b[0;36mcheck_array\u001b[1;34m(array, accept_sparse, accept_large_sparse, dtype, order, copy, force_writeable, force_all_finite, ensure_all_finite, ensure_non_negative, ensure_2d, allow_nd, ensure_min_samples, ensure_min_features, estimator, input_name)\u001b[0m\n\u001b[0;32m   1101\u001b[0m     \u001b[39mraise\u001b[39;00m \u001b[39mValueError\u001b[39;00m(\n\u001b[0;32m   1102\u001b[0m         \u001b[39m\"\u001b[39m\u001b[39mFound array with dim \u001b[39m\u001b[39m%d\u001b[39;00m\u001b[39m. \u001b[39m\u001b[39m%s\u001b[39;00m\u001b[39m expected <= 2.\u001b[39m\u001b[39m\"\u001b[39m\n\u001b[0;32m   1103\u001b[0m         \u001b[39m%\u001b[39m (array\u001b[39m.\u001b[39mndim, estimator_name)\n\u001b[0;32m   1104\u001b[0m     )\n\u001b[0;32m   1106\u001b[0m \u001b[39mif\u001b[39;00m ensure_all_finite:\n\u001b[1;32m-> 1107\u001b[0m     _assert_all_finite(\n\u001b[0;32m   1108\u001b[0m         array,\n\u001b[0;32m   1109\u001b[0m         input_name\u001b[39m=\u001b[39;49minput_name,\n\u001b[0;32m   1110\u001b[0m         estimator_name\u001b[39m=\u001b[39;49mestimator_name,\n\u001b[0;32m   1111\u001b[0m         allow_nan\u001b[39m=\u001b[39;49mensure_all_finite \u001b[39m==\u001b[39;49m \u001b[39m\"\u001b[39;49m\u001b[39mallow-nan\u001b[39;49m\u001b[39m\"\u001b[39;49m,\n\u001b[0;32m   1112\u001b[0m     )\n\u001b[0;32m   1114\u001b[0m \u001b[39mif\u001b[39;00m copy:\n\u001b[0;32m   1115\u001b[0m     \u001b[39mif\u001b[39;00m _is_numpy_namespace(xp):\n\u001b[0;32m   1116\u001b[0m         \u001b[39m# only make a copy if `array` and `array_orig` may share memory`\u001b[39;00m\n",
      "File \u001b[1;32md:\\Anaconda\\envs\\LRD_GNN\\Lib\\site-packages\\sklearn\\utils\\validation.py:120\u001b[0m, in \u001b[0;36m_assert_all_finite\u001b[1;34m(X, allow_nan, msg_dtype, estimator_name, input_name)\u001b[0m\n\u001b[0;32m    117\u001b[0m \u001b[39mif\u001b[39;00m first_pass_isfinite:\n\u001b[0;32m    118\u001b[0m     \u001b[39mreturn\u001b[39;00m\n\u001b[1;32m--> 120\u001b[0m _assert_all_finite_element_wise(\n\u001b[0;32m    121\u001b[0m     X,\n\u001b[0;32m    122\u001b[0m     xp\u001b[39m=\u001b[39;49mxp,\n\u001b[0;32m    123\u001b[0m     allow_nan\u001b[39m=\u001b[39;49mallow_nan,\n\u001b[0;32m    124\u001b[0m     msg_dtype\u001b[39m=\u001b[39;49mmsg_dtype,\n\u001b[0;32m    125\u001b[0m     estimator_name\u001b[39m=\u001b[39;49mestimator_name,\n\u001b[0;32m    126\u001b[0m     input_name\u001b[39m=\u001b[39;49minput_name,\n\u001b[0;32m    127\u001b[0m )\n",
      "File \u001b[1;32md:\\Anaconda\\envs\\LRD_GNN\\Lib\\site-packages\\sklearn\\utils\\validation.py:169\u001b[0m, in \u001b[0;36m_assert_all_finite_element_wise\u001b[1;34m(X, xp, allow_nan, msg_dtype, estimator_name, input_name)\u001b[0m\n\u001b[0;32m    152\u001b[0m \u001b[39mif\u001b[39;00m estimator_name \u001b[39mand\u001b[39;00m input_name \u001b[39m==\u001b[39m \u001b[39m\"\u001b[39m\u001b[39mX\u001b[39m\u001b[39m\"\u001b[39m \u001b[39mand\u001b[39;00m has_nan_error:\n\u001b[0;32m    153\u001b[0m     \u001b[39m# Improve the error message on how to handle missing values in\u001b[39;00m\n\u001b[0;32m    154\u001b[0m     \u001b[39m# scikit-learn.\u001b[39;00m\n\u001b[0;32m    155\u001b[0m     msg_err \u001b[39m+\u001b[39m\u001b[39m=\u001b[39m (\n\u001b[0;32m    156\u001b[0m         \u001b[39mf\u001b[39m\u001b[39m\"\u001b[39m\u001b[39m\\n\u001b[39;00m\u001b[39m{\u001b[39;00mestimator_name\u001b[39m}\u001b[39;00m\u001b[39m does not accept missing values\u001b[39m\u001b[39m\"\u001b[39m\n\u001b[0;32m    157\u001b[0m         \u001b[39m\"\u001b[39m\u001b[39m encoded as NaN natively. For supervised learning, you might want\u001b[39m\u001b[39m\"\u001b[39m\n\u001b[1;32m   (...)\u001b[0m\n\u001b[0;32m    167\u001b[0m         \u001b[39m\"\u001b[39m\u001b[39m#estimators-that-handle-nan-values\u001b[39m\u001b[39m\"\u001b[39m\n\u001b[0;32m    168\u001b[0m     )\n\u001b[1;32m--> 169\u001b[0m \u001b[39mraise\u001b[39;00m \u001b[39mValueError\u001b[39;00m(msg_err)\n",
      "\u001b[1;31mValueError\u001b[0m: Input X contains NaN.\nPCA does not accept missing values encoded as NaN natively. For supervised learning, you might want to consider sklearn.ensemble.HistGradientBoostingClassifier and Regressor which accept missing values encoded as NaNs natively. Alternatively, it is possible to preprocess the data, for instance by using an imputer transformer in a pipeline or drop samples with missing values. See https://scikit-learn.org/stable/modules/impute.html You can find a list of all estimators that handle NaN values at the following page: https://scikit-learn.org/stable/modules/impute.html#estimators-that-handle-nan-values"
     ]
    }
   ],
   "source": [
    "# 执行PCA\n",
    "pca = PCA()\n",
    "X_pca = pca.fit_transform(X_scaled)"
   ]
  },
  {
   "cell_type": "code",
   "execution_count": null,
   "metadata": {},
   "outputs": [],
   "source": []
  }
 ],
 "metadata": {
  "kernelspec": {
   "display_name": "LRD_GNN",
   "language": "python",
   "name": "python3"
  },
  "language_info": {
   "codemirror_mode": {
    "name": "ipython",
    "version": 3
   },
   "file_extension": ".py",
   "mimetype": "text/x-python",
   "name": "python",
   "nbconvert_exporter": "python",
   "pygments_lexer": "ipython3",
   "version": "3.11.7"
  },
  "orig_nbformat": 4
 },
 "nbformat": 4,
 "nbformat_minor": 2
}
